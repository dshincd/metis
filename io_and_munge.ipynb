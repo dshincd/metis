{
 "metadata": {
  "name": "",
  "signature": "sha256:0b1450355efe7b6152dd77369eb5b63bc9a1f24567f88608d4972a9d0ec73e86"
 },
 "nbformat": 3,
 "nbformat_minor": 0,
 "worksheets": [
  {
   "cells": [
    {
     "cell_type": "code",
     "collapsed": false,
     "input": [
      "import pandas as pd\n",
      "import numpy as np"
     ],
     "language": "python",
     "metadata": {},
     "outputs": [],
     "prompt_number": 1
    },
    {
     "cell_type": "code",
     "collapsed": false,
     "input": [
      "s = pd.Series(pd.Categorical(['foo','bar','baz']).take(np.random.randint(0,3,size=12)))\n",
      "s"
     ],
     "language": "python",
     "metadata": {},
     "outputs": [
      {
       "metadata": {},
       "output_type": "pyout",
       "prompt_number": 35,
       "text": [
        "0     bar\n",
        "1     bar\n",
        "2     bar\n",
        "3     foo\n",
        "4     foo\n",
        "5     foo\n",
        "6     bar\n",
        "7     foo\n",
        "8     baz\n",
        "9     baz\n",
        "10    foo\n",
        "11    foo\n",
        "dtype: category\n",
        "Categories (3, object): [bar < baz < foo]"
       ]
      }
     ],
     "prompt_number": 35
    },
    {
     "cell_type": "code",
     "collapsed": false,
     "input": [
      "df = pd.DataFrame({ 'A' : pd.date_range('20130101',periods=12),\n",
      "                    'B' : s,\n",
      "                    'C' : np.random.randn(12),\n",
      "                    'D' : np.random.randint(0,5,size=12)})\n",
      "df"
     ],
     "language": "python",
     "metadata": {},
     "outputs": [
      {
       "html": [
        "<div style=\"max-height:1000px;max-width:1500px;overflow:auto;\">\n",
        "<table border=\"1\" class=\"dataframe\">\n",
        "  <thead>\n",
        "    <tr style=\"text-align: right;\">\n",
        "      <th></th>\n",
        "      <th>A</th>\n",
        "      <th>B</th>\n",
        "      <th>C</th>\n",
        "      <th>D</th>\n",
        "    </tr>\n",
        "  </thead>\n",
        "  <tbody>\n",
        "    <tr>\n",
        "      <th>0 </th>\n",
        "      <td>2013-01-01</td>\n",
        "      <td> bar</td>\n",
        "      <td>-1.751742</td>\n",
        "      <td> 1</td>\n",
        "    </tr>\n",
        "    <tr>\n",
        "      <th>1 </th>\n",
        "      <td>2013-01-02</td>\n",
        "      <td> bar</td>\n",
        "      <td>-0.312768</td>\n",
        "      <td> 4</td>\n",
        "    </tr>\n",
        "    <tr>\n",
        "      <th>2 </th>\n",
        "      <td>2013-01-03</td>\n",
        "      <td> bar</td>\n",
        "      <td>-0.166157</td>\n",
        "      <td> 0</td>\n",
        "    </tr>\n",
        "    <tr>\n",
        "      <th>3 </th>\n",
        "      <td>2013-01-04</td>\n",
        "      <td> foo</td>\n",
        "      <td> 0.798121</td>\n",
        "      <td> 4</td>\n",
        "    </tr>\n",
        "    <tr>\n",
        "      <th>4 </th>\n",
        "      <td>2013-01-05</td>\n",
        "      <td> foo</td>\n",
        "      <td> 1.394459</td>\n",
        "      <td> 0</td>\n",
        "    </tr>\n",
        "    <tr>\n",
        "      <th>5 </th>\n",
        "      <td>2013-01-06</td>\n",
        "      <td> foo</td>\n",
        "      <td> 0.644986</td>\n",
        "      <td> 3</td>\n",
        "    </tr>\n",
        "    <tr>\n",
        "      <th>6 </th>\n",
        "      <td>2013-01-07</td>\n",
        "      <td> bar</td>\n",
        "      <td>-0.784527</td>\n",
        "      <td> 1</td>\n",
        "    </tr>\n",
        "    <tr>\n",
        "      <th>7 </th>\n",
        "      <td>2013-01-08</td>\n",
        "      <td> foo</td>\n",
        "      <td>-0.774756</td>\n",
        "      <td> 3</td>\n",
        "    </tr>\n",
        "    <tr>\n",
        "      <th>8 </th>\n",
        "      <td>2013-01-09</td>\n",
        "      <td> baz</td>\n",
        "      <td> 0.244428</td>\n",
        "      <td> 0</td>\n",
        "    </tr>\n",
        "    <tr>\n",
        "      <th>9 </th>\n",
        "      <td>2013-01-10</td>\n",
        "      <td> baz</td>\n",
        "      <td>-0.260886</td>\n",
        "      <td> 2</td>\n",
        "    </tr>\n",
        "    <tr>\n",
        "      <th>10</th>\n",
        "      <td>2013-01-11</td>\n",
        "      <td> foo</td>\n",
        "      <td>-0.798914</td>\n",
        "      <td> 0</td>\n",
        "    </tr>\n",
        "    <tr>\n",
        "      <th>11</th>\n",
        "      <td>2013-01-12</td>\n",
        "      <td> foo</td>\n",
        "      <td>-0.177658</td>\n",
        "      <td> 3</td>\n",
        "    </tr>\n",
        "  </tbody>\n",
        "</table>\n",
        "</div>"
       ],
       "metadata": {},
       "output_type": "pyout",
       "prompt_number": 71,
       "text": [
        "            A    B         C  D\n",
        "0  2013-01-01  bar -1.751742  1\n",
        "1  2013-01-02  bar -0.312768  4\n",
        "2  2013-01-03  bar -0.166157  0\n",
        "3  2013-01-04  foo  0.798121  4\n",
        "4  2013-01-05  foo  1.394459  0\n",
        "5  2013-01-06  foo  0.644986  3\n",
        "6  2013-01-07  bar -0.784527  1\n",
        "7  2013-01-08  foo -0.774756  3\n",
        "8  2013-01-09  baz  0.244428  0\n",
        "9  2013-01-10  baz -0.260886  2\n",
        "10 2013-01-11  foo -0.798914  0\n",
        "11 2013-01-12  foo -0.177658  3"
       ]
      }
     ],
     "prompt_number": 71
    },
    {
     "cell_type": "code",
     "collapsed": false,
     "input": [
      "df.dtypes"
     ],
     "language": "python",
     "metadata": {},
     "outputs": [
      {
       "metadata": {},
       "output_type": "pyout",
       "prompt_number": 37,
       "text": [
        "A    datetime64[ns]\n",
        "B          category\n",
        "C           float64\n",
        "D             int64\n",
        "dtype: object"
       ]
      }
     ],
     "prompt_number": 37
    },
    {
     "cell_type": "heading",
     "level": 1,
     "metadata": {},
     "source": [
      "input-output"
     ]
    },
    {
     "cell_type": "code",
     "collapsed": false,
     "input": [
      "df.to_excel('foo.xls')\n",
      "pd.read_excel('foo.xls').dtypes"
     ],
     "language": "python",
     "metadata": {},
     "outputs": [
      {
       "metadata": {},
       "output_type": "pyout",
       "prompt_number": 67,
       "text": [
        "A    datetime64[ns]\n",
        "B            object\n",
        "C           float64\n",
        "D             int64\n",
        "dtype: object"
       ]
      }
     ],
     "prompt_number": 67
    },
    {
     "cell_type": "code",
     "collapsed": false,
     "input": [
      "df.to_csv('foo.csv',index=False)\n",
      "pd.read_csv('foo.csv').dtypes"
     ],
     "language": "python",
     "metadata": {},
     "outputs": [
      {
       "metadata": {},
       "output_type": "pyout",
       "prompt_number": 68,
       "text": [
        "A     object\n",
        "B     object\n",
        "C    float64\n",
        "D      int64\n",
        "dtype: object"
       ]
      }
     ],
     "prompt_number": 68
    },
    {
     "cell_type": "code",
     "collapsed": false,
     "input": [
      "df.to_hdf('foo.h5','df',format='table',data_columns=True)\n",
      "pd.read_hdf('foo.h5','df').dtypes"
     ],
     "language": "python",
     "metadata": {},
     "outputs": [
      {
       "metadata": {},
       "output_type": "pyout",
       "prompt_number": 72,
       "text": [
        "A    datetime64[ns]\n",
        "B          category\n",
        "C           float64\n",
        "D             int64\n",
        "dtype: object"
       ]
      }
     ],
     "prompt_number": 72
    },
    {
     "cell_type": "code",
     "collapsed": false,
     "input": [
      "pd.read_hdf('foo.h5','df',where='B=[\"foo\",\"bar\"]')"
     ],
     "language": "python",
     "metadata": {},
     "outputs": [
      {
       "html": [
        "<div style=\"max-height:1000px;max-width:1500px;overflow:auto;\">\n",
        "<table border=\"1\" class=\"dataframe\">\n",
        "  <thead>\n",
        "    <tr style=\"text-align: right;\">\n",
        "      <th></th>\n",
        "      <th>A</th>\n",
        "      <th>B</th>\n",
        "      <th>C</th>\n",
        "      <th>D</th>\n",
        "    </tr>\n",
        "  </thead>\n",
        "  <tbody>\n",
        "    <tr>\n",
        "      <th>0 </th>\n",
        "      <td>2013-01-01</td>\n",
        "      <td> bar</td>\n",
        "      <td>-1.751742</td>\n",
        "      <td> 1</td>\n",
        "    </tr>\n",
        "    <tr>\n",
        "      <th>1 </th>\n",
        "      <td>2013-01-02</td>\n",
        "      <td> bar</td>\n",
        "      <td>-0.312768</td>\n",
        "      <td> 4</td>\n",
        "    </tr>\n",
        "    <tr>\n",
        "      <th>2 </th>\n",
        "      <td>2013-01-03</td>\n",
        "      <td> bar</td>\n",
        "      <td>-0.166157</td>\n",
        "      <td> 0</td>\n",
        "    </tr>\n",
        "    <tr>\n",
        "      <th>3 </th>\n",
        "      <td>2013-01-04</td>\n",
        "      <td> foo</td>\n",
        "      <td> 0.798121</td>\n",
        "      <td> 4</td>\n",
        "    </tr>\n",
        "    <tr>\n",
        "      <th>4 </th>\n",
        "      <td>2013-01-05</td>\n",
        "      <td> foo</td>\n",
        "      <td> 1.394459</td>\n",
        "      <td> 0</td>\n",
        "    </tr>\n",
        "    <tr>\n",
        "      <th>5 </th>\n",
        "      <td>2013-01-06</td>\n",
        "      <td> foo</td>\n",
        "      <td> 0.644986</td>\n",
        "      <td> 3</td>\n",
        "    </tr>\n",
        "    <tr>\n",
        "      <th>6 </th>\n",
        "      <td>2013-01-07</td>\n",
        "      <td> bar</td>\n",
        "      <td>-0.784527</td>\n",
        "      <td> 1</td>\n",
        "    </tr>\n",
        "    <tr>\n",
        "      <th>7 </th>\n",
        "      <td>2013-01-08</td>\n",
        "      <td> foo</td>\n",
        "      <td>-0.774756</td>\n",
        "      <td> 3</td>\n",
        "    </tr>\n",
        "    <tr>\n",
        "      <th>10</th>\n",
        "      <td>2013-01-11</td>\n",
        "      <td> foo</td>\n",
        "      <td>-0.798914</td>\n",
        "      <td> 0</td>\n",
        "    </tr>\n",
        "    <tr>\n",
        "      <th>11</th>\n",
        "      <td>2013-01-12</td>\n",
        "      <td> foo</td>\n",
        "      <td>-0.177658</td>\n",
        "      <td> 3</td>\n",
        "    </tr>\n",
        "  </tbody>\n",
        "</table>\n",
        "</div>"
       ],
       "metadata": {},
       "output_type": "pyout",
       "prompt_number": 73,
       "text": [
        "            A    B         C  D\n",
        "0  2013-01-01  bar -1.751742  1\n",
        "1  2013-01-02  bar -0.312768  4\n",
        "2  2013-01-03  bar -0.166157  0\n",
        "3  2013-01-04  foo  0.798121  4\n",
        "4  2013-01-05  foo  1.394459  0\n",
        "5  2013-01-06  foo  0.644986  3\n",
        "6  2013-01-07  bar -0.784527  1\n",
        "7  2013-01-08  foo -0.774756  3\n",
        "10 2013-01-11  foo -0.798914  0\n",
        "11 2013-01-12  foo -0.177658  3"
       ]
      }
     ],
     "prompt_number": 73
    },
    {
     "cell_type": "code",
     "collapsed": false,
     "input": [
      "import sqlite3\n",
      "db = sqlite3.connect('foo.db')\n",
      "df.to_sql('df',db, index=False, if_exists='replace')\n",
      "result = pd.read_sql('select * from df',db)\n",
      "db.close()\n",
      "result.dtypes"
     ],
     "language": "python",
     "metadata": {},
     "outputs": [
      {
       "metadata": {},
       "output_type": "pyout",
       "prompt_number": 75,
       "text": [
        "A     object\n",
        "B     object\n",
        "C    float64\n",
        "D      int64\n",
        "dtype: object"
       ]
      }
     ],
     "prompt_number": 75
    },
    {
     "cell_type": "code",
     "collapsed": false,
     "input": [
      "result.dtypes"
     ],
     "language": "python",
     "metadata": {},
     "outputs": [
      {
       "metadata": {},
       "output_type": "pyout",
       "prompt_number": 49,
       "text": [
        "A     object\n",
        "B     object\n",
        "C    float64\n",
        "D      int64\n",
        "dtype: object"
       ]
      }
     ],
     "prompt_number": 49
    },
    {
     "cell_type": "code",
     "collapsed": false,
     "input": [
      "!ls -ltr\n"
     ],
     "language": "python",
     "metadata": {},
     "outputs": [
      {
       "output_type": "stream",
       "stream": "stdout",
       "text": [
        "total 544\r\n",
        "-rw-rw-r--  1 jreback  staff    5632 Mar  3 15:33 foo.xls\r\n",
        "-rw-rw-r--  1 jreback  staff     557 Mar  3 15:34 foo.csv\r\n",
        "-rw-rw-r--  1 jreback  staff  226402 Mar  3 15:34 foo.h5\r\n",
        "-rw-r--r--  1 jreback  staff    3072 Mar  3 15:36 foo.db\r\n",
        "-rw-------  1 jreback  staff   28691 Mar  3 15:40 io.ipynb\r\n"
       ]
      }
     ],
     "prompt_number": 53
    },
    {
     "cell_type": "code",
     "collapsed": false,
     "input": [
      "store = pd.HDFStore('foo.h5')\n",
      "store"
     ],
     "language": "python",
     "metadata": {},
     "outputs": [
      {
       "metadata": {},
       "output_type": "pyout",
       "prompt_number": 51,
       "text": [
        "<class 'pandas.io.pytables.HDFStore'>\n",
        "File path: foo.h5\n",
        "/df                        frame_table  (typ->appendable,nrows->12,ncols->4,indexers->[index],dc->[A,B,C,D])\n",
        "/df/meta/B/meta            series_table (typ->appendable,nrows->3,ncols->1,indexers->[index],dc->[values])  "
       ]
      }
     ],
     "prompt_number": 51
    },
    {
     "cell_type": "code",
     "collapsed": false,
     "input": [
      "store.close()"
     ],
     "language": "python",
     "metadata": {},
     "outputs": [],
     "prompt_number": 52
    },
    {
     "cell_type": "code",
     "collapsed": false,
     "input": [
      "# clean up result\n",
      "result.dtypes"
     ],
     "language": "python",
     "metadata": {},
     "outputs": [
      {
       "metadata": {},
       "output_type": "pyout",
       "prompt_number": 54,
       "text": [
        "A     object\n",
        "B     object\n",
        "C    float64\n",
        "D      int64\n",
        "dtype: object"
       ]
      }
     ],
     "prompt_number": 54
    },
    {
     "cell_type": "code",
     "collapsed": false,
     "input": [
      "result.head()"
     ],
     "language": "python",
     "metadata": {},
     "outputs": [
      {
       "html": [
        "<div style=\"max-height:1000px;max-width:1500px;overflow:auto;\">\n",
        "<table border=\"1\" class=\"dataframe\">\n",
        "  <thead>\n",
        "    <tr style=\"text-align: right;\">\n",
        "      <th></th>\n",
        "      <th>A</th>\n",
        "      <th>B</th>\n",
        "      <th>C</th>\n",
        "      <th>D</th>\n",
        "    </tr>\n",
        "  </thead>\n",
        "  <tbody>\n",
        "    <tr>\n",
        "      <th>0</th>\n",
        "      <td> 2013-01-01 00:00:00</td>\n",
        "      <td> bar</td>\n",
        "      <td>-1.143918</td>\n",
        "      <td> 0</td>\n",
        "    </tr>\n",
        "    <tr>\n",
        "      <th>1</th>\n",
        "      <td> 2013-01-02 00:00:00</td>\n",
        "      <td> bar</td>\n",
        "      <td> 0.633685</td>\n",
        "      <td> 2</td>\n",
        "    </tr>\n",
        "    <tr>\n",
        "      <th>2</th>\n",
        "      <td> 2013-01-03 00:00:00</td>\n",
        "      <td> bar</td>\n",
        "      <td> 0.304527</td>\n",
        "      <td> 0</td>\n",
        "    </tr>\n",
        "    <tr>\n",
        "      <th>3</th>\n",
        "      <td> 2013-01-04 00:00:00</td>\n",
        "      <td> foo</td>\n",
        "      <td>-0.477373</td>\n",
        "      <td> 3</td>\n",
        "    </tr>\n",
        "    <tr>\n",
        "      <th>4</th>\n",
        "      <td> 2013-01-05 00:00:00</td>\n",
        "      <td> foo</td>\n",
        "      <td>-0.327473</td>\n",
        "      <td> 0</td>\n",
        "    </tr>\n",
        "  </tbody>\n",
        "</table>\n",
        "</div>"
       ],
       "metadata": {},
       "output_type": "pyout",
       "prompt_number": 55,
       "text": [
        "                     A    B         C  D\n",
        "0  2013-01-01 00:00:00  bar -1.143918  0\n",
        "1  2013-01-02 00:00:00  bar  0.633685  2\n",
        "2  2013-01-03 00:00:00  bar  0.304527  0\n",
        "3  2013-01-04 00:00:00  foo -0.477373  3\n",
        "4  2013-01-05 00:00:00  foo -0.327473  0"
       ]
      }
     ],
     "prompt_number": 55
    },
    {
     "cell_type": "code",
     "collapsed": false,
     "input": [
      "pd.to_datetime(result.A)"
     ],
     "language": "python",
     "metadata": {},
     "outputs": [
      {
       "metadata": {},
       "output_type": "pyout",
       "prompt_number": 56,
       "text": [
        "0    2013-01-01\n",
        "1    2013-01-02\n",
        "2    2013-01-03\n",
        "3    2013-01-04\n",
        "4    2013-01-05\n",
        "5    2013-01-06\n",
        "6    2013-01-07\n",
        "7    2013-01-08\n",
        "8    2013-01-09\n",
        "9    2013-01-10\n",
        "10   2013-01-11\n",
        "11   2013-01-12\n",
        "Name: A, dtype: datetime64[ns]"
       ]
      }
     ],
     "prompt_number": 56
    },
    {
     "cell_type": "code",
     "collapsed": false,
     "input": [
      "x = result.A.copy()\n",
      "x.iloc[2] = 'foo'\n",
      "x"
     ],
     "language": "python",
     "metadata": {},
     "outputs": [
      {
       "metadata": {},
       "output_type": "pyout",
       "prompt_number": 57,
       "text": [
        "0     2013-01-01 00:00:00\n",
        "1     2013-01-02 00:00:00\n",
        "2                     foo\n",
        "3     2013-01-04 00:00:00\n",
        "4     2013-01-05 00:00:00\n",
        "5     2013-01-06 00:00:00\n",
        "6     2013-01-07 00:00:00\n",
        "7     2013-01-08 00:00:00\n",
        "8     2013-01-09 00:00:00\n",
        "9     2013-01-10 00:00:00\n",
        "10    2013-01-11 00:00:00\n",
        "11    2013-01-12 00:00:00\n",
        "Name: A, dtype: object"
       ]
      }
     ],
     "prompt_number": 57
    },
    {
     "cell_type": "code",
     "collapsed": false,
     "input": [
      "pd.to_datetime(x,coerce=True)"
     ],
     "language": "python",
     "metadata": {},
     "outputs": [
      {
       "metadata": {},
       "output_type": "pyout",
       "prompt_number": 59,
       "text": [
        "0    2013-01-01\n",
        "1    2013-01-02\n",
        "2           NaT\n",
        "3    2013-01-04\n",
        "4    2013-01-05\n",
        "5    2013-01-06\n",
        "6    2013-01-07\n",
        "7    2013-01-08\n",
        "8    2013-01-09\n",
        "9    2013-01-10\n",
        "10   2013-01-11\n",
        "11   2013-01-12\n",
        "Name: A, dtype: datetime64[ns]"
       ]
      }
     ],
     "prompt_number": 59
    },
    {
     "cell_type": "code",
     "collapsed": false,
     "input": [
      "formatted_date = df.A.apply(lambda x: x.strftime('%d%m%Y'))\n",
      "formatted_date"
     ],
     "language": "python",
     "metadata": {},
     "outputs": [
      {
       "metadata": {},
       "output_type": "pyout",
       "prompt_number": 64,
       "text": [
        "0     01012013\n",
        "1     02012013\n",
        "2     03012013\n",
        "3     04012013\n",
        "4     05012013\n",
        "5     06012013\n",
        "6     07012013\n",
        "7     08012013\n",
        "8     09012013\n",
        "9     10012013\n",
        "10    11012013\n",
        "11    12012013\n",
        "Name: A, dtype: object"
       ]
      }
     ],
     "prompt_number": 64
    },
    {
     "cell_type": "code",
     "collapsed": false,
     "input": [
      "pd.to_datetime(formatted_date,format='%d%m%Y')"
     ],
     "language": "python",
     "metadata": {},
     "outputs": [
      {
       "metadata": {},
       "output_type": "pyout",
       "prompt_number": 66,
       "text": [
        "0    2013-01-01\n",
        "1    2013-01-02\n",
        "2    2013-01-03\n",
        "3    2013-01-04\n",
        "4    2013-01-05\n",
        "5    2013-01-06\n",
        "6    2013-01-07\n",
        "7    2013-01-08\n",
        "8    2013-01-09\n",
        "9    2013-01-10\n",
        "10   2013-01-11\n",
        "11   2013-01-12\n",
        "Name: A, dtype: datetime64[ns]"
       ]
      }
     ],
     "prompt_number": 66
    },
    {
     "cell_type": "code",
     "collapsed": false,
     "input": [],
     "language": "python",
     "metadata": {},
     "outputs": []
    }
   ],
   "metadata": {}
  }
 ]
}