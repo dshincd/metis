{
 "cells": [
  {
   "cell_type": "markdown",
   "metadata": {},
   "source": [
    "Taxi Database\n",
    "http://www.andresmh.com/nyctaxitrips/"
   ]
  },
  {
   "cell_type": "code",
   "execution_count": 3,
   "metadata": {
    "collapsed": true
   },
   "outputs": [],
   "source": [
    "import pandas as pd\n",
    "import numpy as np\n",
    "pd.set_option('max_rows',10)\n",
    "%matplotlib inline\n",
    "\n",
    "path = 'data/fare2.h5'"
   ]
  },
  {
   "cell_type": "code",
   "execution_count": 28,
   "metadata": {
    "collapsed": false
   },
   "outputs": [
    {
     "data": {
      "text/html": [
       "<div style=\"max-height:1000px;max-width:1500px;overflow:auto;\">\n",
       "<table border=\"1\" class=\"dataframe\">\n",
       "  <thead>\n",
       "    <tr style=\"text-align: right;\">\n",
       "      <th></th>\n",
       "      <th>medallion</th>\n",
       "      <th>hack_license</th>\n",
       "      <th>pickup_date</th>\n",
       "      <th>pickup_time</th>\n",
       "      <th>dropoff_date</th>\n",
       "      <th>dropoff_time</th>\n",
       "      <th>passenger_count</th>\n",
       "      <th>trip_distance</th>\n",
       "    </tr>\n",
       "  </thead>\n",
       "  <tbody>\n",
       "    <tr>\n",
       "      <th>0</th>\n",
       "      <td>81124DBD6AB03F24B895D5CF04AAACA2</td>\n",
       "      <td>EFEDEB0551AA8916DE8F1997F0DE3647</td>\n",
       "      <td>2013-01-01</td>\n",
       "      <td>00:02:42</td>\n",
       "      <td>2013-01-01</td>\n",
       "      <td>00:02:50</td>\n",
       "      <td>1</td>\n",
       "      <td>0.0</td>\n",
       "    </tr>\n",
       "    <tr>\n",
       "      <th>1</th>\n",
       "      <td>C8C1AAEB85749A3A2D1279A1C1DA89AC</td>\n",
       "      <td>51CC5CA07EDCBC3BE57775EDB9F4771B</td>\n",
       "      <td>2013-01-01</td>\n",
       "      <td>00:58:45</td>\n",
       "      <td>2013-01-01</td>\n",
       "      <td>01:10:34</td>\n",
       "      <td>2</td>\n",
       "      <td>3.5</td>\n",
       "    </tr>\n",
       "    <tr>\n",
       "      <th>2</th>\n",
       "      <td>DAF57CF25F00457CC6077CD628EC71AC</td>\n",
       "      <td>F426171D9725BF58B391BA8BEC3919F0</td>\n",
       "      <td>2013-01-01</td>\n",
       "      <td>02:36:56</td>\n",
       "      <td>2013-01-01</td>\n",
       "      <td>02:47:00</td>\n",
       "      <td>3</td>\n",
       "      <td>2.2</td>\n",
       "    </tr>\n",
       "    <tr>\n",
       "      <th>3</th>\n",
       "      <td>901E4965DF59FA006B74057ACE3F979F</td>\n",
       "      <td>797E4DBEC1C53DBC3196540342C64D4B</td>\n",
       "      <td>2013-01-01</td>\n",
       "      <td>15:16:04</td>\n",
       "      <td>2013-01-01</td>\n",
       "      <td>15:23:33</td>\n",
       "      <td>0</td>\n",
       "      <td>0.0</td>\n",
       "    </tr>\n",
       "    <tr>\n",
       "      <th>4</th>\n",
       "      <td>14581655B9201FAB51523708396522E5</td>\n",
       "      <td>04F81021ECEAA5E70763E550E2FD778E</td>\n",
       "      <td>2013-01-02</td>\n",
       "      <td>08:52:21</td>\n",
       "      <td>2013-01-02</td>\n",
       "      <td>08:56:52</td>\n",
       "      <td>1</td>\n",
       "      <td>1.6</td>\n",
       "    </tr>\n",
       "    <tr>\n",
       "      <th>5</th>\n",
       "      <td>9EE993809F648D39D24F5BA8F862D7F1</td>\n",
       "      <td>21A4E9E21656A71FA038C8DB534BACEE</td>\n",
       "      <td>2013-01-02</td>\n",
       "      <td>10:45:55</td>\n",
       "      <td>2013-01-02</td>\n",
       "      <td>11:18:57</td>\n",
       "      <td>1</td>\n",
       "      <td>17.9</td>\n",
       "    </tr>\n",
       "    <tr>\n",
       "      <th>6</th>\n",
       "      <td>77B3DCADC2BE183652C31B1C0C08255A</td>\n",
       "      <td>B040BE2E935E0EBF4C45CCA1C7A2D87A</td>\n",
       "      <td>2013-01-02</td>\n",
       "      <td>10:55:02</td>\n",
       "      <td>2013-01-02</td>\n",
       "      <td>11:14:16</td>\n",
       "      <td>1</td>\n",
       "      <td>4.0</td>\n",
       "    </tr>\n",
       "    <tr>\n",
       "      <th>7</th>\n",
       "      <td>3B26D0D0A99C09AB80BBB6AC8C506774</td>\n",
       "      <td>D09CFB64B08B99A2390D52BFD4AE519A</td>\n",
       "      <td>2013-01-02</td>\n",
       "      <td>10:55:26</td>\n",
       "      <td>2013-01-02</td>\n",
       "      <td>11:24:15</td>\n",
       "      <td>1</td>\n",
       "      <td>8.2</td>\n",
       "    </tr>\n",
       "    <tr>\n",
       "      <th>8</th>\n",
       "      <td>5C7D1231937EF7F6E2481C3CFBF10B25</td>\n",
       "      <td>47BB8746DEC29D70A6AB5EF0F1731D5C</td>\n",
       "      <td>2013-01-02</td>\n",
       "      <td>11:00:27</td>\n",
       "      <td>2013-01-02</td>\n",
       "      <td>11:24:28</td>\n",
       "      <td>1</td>\n",
       "      <td>5.4</td>\n",
       "    </tr>\n",
       "    <tr>\n",
       "      <th>9</th>\n",
       "      <td>2413E4CDDDBD025497869B47D21C82E4</td>\n",
       "      <td>C9C7B3B2015E6DC7E1BE9B573FD77727</td>\n",
       "      <td>2013-01-02</td>\n",
       "      <td>11:00:39</td>\n",
       "      <td>2013-01-02</td>\n",
       "      <td>11:24:16</td>\n",
       "      <td>1</td>\n",
       "      <td>7.5</td>\n",
       "    </tr>\n",
       "  </tbody>\n",
       "</table>\n",
       "</div>"
      ],
      "text/plain": [
       "                          medallion                      hack_license pickup_date pickup_time dropoff_date dropoff_time  passenger_count  trip_distance\n",
       "0  81124DBD6AB03F24B895D5CF04AAACA2  EFEDEB0551AA8916DE8F1997F0DE3647  2013-01-01    00:02:42   2013-01-01     00:02:50                1            0.0\n",
       "1  C8C1AAEB85749A3A2D1279A1C1DA89AC  51CC5CA07EDCBC3BE57775EDB9F4771B  2013-01-01    00:58:45   2013-01-01     01:10:34                2            3.5\n",
       "2  DAF57CF25F00457CC6077CD628EC71AC  F426171D9725BF58B391BA8BEC3919F0  2013-01-01    02:36:56   2013-01-01     02:47:00                3            2.2\n",
       "3  901E4965DF59FA006B74057ACE3F979F  797E4DBEC1C53DBC3196540342C64D4B  2013-01-01    15:16:04   2013-01-01     15:23:33                0            0.0\n",
       "4  14581655B9201FAB51523708396522E5  04F81021ECEAA5E70763E550E2FD778E  2013-01-02    08:52:21   2013-01-02     08:56:52                1            1.6\n",
       "5  9EE993809F648D39D24F5BA8F862D7F1  21A4E9E21656A71FA038C8DB534BACEE  2013-01-02    10:45:55   2013-01-02     11:18:57                1           17.9\n",
       "6  77B3DCADC2BE183652C31B1C0C08255A  B040BE2E935E0EBF4C45CCA1C7A2D87A  2013-01-02    10:55:02   2013-01-02     11:14:16                1            4.0\n",
       "7  3B26D0D0A99C09AB80BBB6AC8C506774  D09CFB64B08B99A2390D52BFD4AE519A  2013-01-02    10:55:26   2013-01-02     11:24:15                1            8.2\n",
       "8  5C7D1231937EF7F6E2481C3CFBF10B25  47BB8746DEC29D70A6AB5EF0F1731D5C  2013-01-02    11:00:27   2013-01-02     11:24:28                1            5.4\n",
       "9  2413E4CDDDBD025497869B47D21C82E4  C9C7B3B2015E6DC7E1BE9B573FD77727  2013-01-02    11:00:39   2013-01-02     11:24:16                1            7.5"
      ]
     },
     "execution_count": 28,
     "metadata": {},
     "output_type": "execute_result"
    }
   ],
   "source": [
    "# inspect\n",
    "df = pd.read_csv('data/final.csv',\n",
    "                  nrows=10,\n",
    "                  names=\"medallion,hack_license,vendor_id,rate_code,store_and_fwd_flag,pickup_date,pickup_time,dropoff_date,dropoff_time,passenger_count,trip_time_in_secs,trip_distance,pickup_longitude,pickup_latitude,dropoff_longitude,dropoff_latitude\".split(','),\n",
    "                  usecols=\"medallion,hack_license,pickup_date,pickup_time,dropoff_date,dropoff_time,passenger_count,trip_distance\".split(','),                    )\n",
    "df"
   ]
  },
  {
   "cell_type": "code",
   "execution_count": 29,
   "metadata": {
    "collapsed": false
   },
   "outputs": [
    {
     "data": {
      "text/plain": [
       "medallion           object\n",
       "hack_license        object\n",
       "pickup_date         object\n",
       "pickup_time         object\n",
       "dropoff_date        object\n",
       "dropoff_time        object\n",
       "passenger_count      int64\n",
       "trip_distance      float64\n",
       "dtype: object"
      ]
     },
     "execution_count": 29,
     "metadata": {},
     "output_type": "execute_result"
    }
   ],
   "source": [
    "df.dtypes"
   ]
  },
  {
   "cell_type": "code",
   "execution_count": 30,
   "metadata": {
    "collapsed": false
   },
   "outputs": [
    {
     "data": {
      "text/plain": [
       "0   2013-01-01 00:02:50\n",
       "1   2013-01-01 01:10:34\n",
       "2   2013-01-01 02:47:00\n",
       "3   2013-01-01 15:23:33\n",
       "4   2013-01-02 08:56:52\n",
       "5   2013-01-02 11:18:57\n",
       "6   2013-01-02 11:14:16\n",
       "7   2013-01-02 11:24:15\n",
       "8   2013-01-02 11:24:28\n",
       "9   2013-01-02 11:24:16\n",
       "dtype: datetime64[ns]"
      ]
     },
     "execution_count": 30,
     "metadata": {},
     "output_type": "execute_result"
    }
   ],
   "source": [
    "pd.to_datetime(df['dropoff_date'] + ' ' + df['dropoff_time'],infer_datetime_format=True)"
   ]
  },
  {
   "cell_type": "code",
   "execution_count": 4,
   "metadata": {
    "collapsed": false
   },
   "outputs": [],
   "source": [
    "def read_and_convert_data():\n",
    "\n",
    "    def parse_dates(df, name):\n",
    "\n",
    "        date = df.pop(\"%s_date\" % name)\n",
    "        time = df.pop(\"%s_time\" % name)\n",
    "        df[name] = pd.to_datetime(date + ' ' + time,infer_datetime_format=True)\n",
    "        return df\n",
    "\n",
    "    def parse_cats(df, name):\n",
    "        df[name] = df[name].astype('category')\n",
    "        return df\n",
    "    \n",
    "    df = pd.read_csv('data/final.csv',\n",
    "                     nrows=10000000,\n",
    "                     names=\"medallion,hack_license,vendor_id,rate_code,store_and_fwd_flag,pickup_date,pickup_time,dropoff_date,dropoff_time,passenger_count,trip_time_in_secs,trip_distance,pickup_longitude,pickup_latitude,dropoff_longitude,dropoff_latitude\".split(','),\n",
    "                     usecols=\"medallion,hack_license,pickup_date,pickup_time,dropoff_date,dropoff_time,passenger_count,trip_distance\".split(','),                    )\n",
    "\n",
    "    df = parse_dates(df, 'pickup')\n",
    "    df = parse_dates(df, 'dropoff')\n",
    "    df = parse_cats(df, 'medallion')\n",
    "    df = parse_cats(df, 'hack_license')\n",
    "\n",
    "    df.to_hdf(path,'df',mode='w',format='table',data_columns=['medallion','hack_license'])"
   ]
  },
  {
   "cell_type": "code",
   "execution_count": 10,
   "metadata": {
    "collapsed": false
   },
   "outputs": [
    {
     "name": "stdout",
     "output_type": "stream",
     "text": [
      "1 loops, best of 1: 1min 5s per loop\n"
     ]
    }
   ],
   "source": [
    "%timeit -n 1 -r 1 read_and_convert_data()"
   ]
  },
  {
   "cell_type": "code",
   "execution_count": 5,
   "metadata": {
    "collapsed": false
   },
   "outputs": [
    {
     "name": "stdout",
     "output_type": "stream",
     "text": [
      "<class 'pandas.core.frame.DataFrame'>\n",
      "Int64Index: 10000000 entries, 0 to 9999999\n",
      "Data columns (total 6 columns):\n",
      "medallion          category\n",
      "hack_license       category\n",
      "passenger_count    int64\n",
      "trip_distance      float64\n",
      "pickup             datetime64[ns]\n",
      "dropoff            datetime64[ns]\n",
      "dtypes: category(2), datetime64[ns](2), float64(1), int64(1)\n",
      "memory usage: 419.8 MB\n"
     ]
    }
   ],
   "source": [
    "df = pd.read_hdf(path,'df')\n",
    "df.info()"
   ]
  },
  {
   "cell_type": "code",
   "execution_count": 6,
   "metadata": {
    "collapsed": false
   },
   "outputs": [
    {
     "data": {
      "text/html": [
       "<div style=\"max-height:1000px;max-width:1500px;overflow:auto;\">\n",
       "<table border=\"1\" class=\"dataframe\">\n",
       "  <thead>\n",
       "    <tr style=\"text-align: right;\">\n",
       "      <th></th>\n",
       "      <th>medallion</th>\n",
       "      <th>hack_license</th>\n",
       "      <th>passenger_count</th>\n",
       "      <th>trip_distance</th>\n",
       "      <th>pickup</th>\n",
       "      <th>dropoff</th>\n",
       "    </tr>\n",
       "  </thead>\n",
       "  <tbody>\n",
       "    <tr>\n",
       "      <th>0</th>\n",
       "      <td>81124DBD6AB03F24B895D5CF04AAACA2</td>\n",
       "      <td>EFEDEB0551AA8916DE8F1997F0DE3647</td>\n",
       "      <td>1</td>\n",
       "      <td>0.0</td>\n",
       "      <td>2013-01-01 00:02:42</td>\n",
       "      <td>2013-01-01 00:02:50</td>\n",
       "    </tr>\n",
       "    <tr>\n",
       "      <th>1</th>\n",
       "      <td>C8C1AAEB85749A3A2D1279A1C1DA89AC</td>\n",
       "      <td>51CC5CA07EDCBC3BE57775EDB9F4771B</td>\n",
       "      <td>2</td>\n",
       "      <td>3.5</td>\n",
       "      <td>2013-01-01 00:58:45</td>\n",
       "      <td>2013-01-01 01:10:34</td>\n",
       "    </tr>\n",
       "    <tr>\n",
       "      <th>2</th>\n",
       "      <td>DAF57CF25F00457CC6077CD628EC71AC</td>\n",
       "      <td>F426171D9725BF58B391BA8BEC3919F0</td>\n",
       "      <td>3</td>\n",
       "      <td>2.2</td>\n",
       "      <td>2013-01-01 02:36:56</td>\n",
       "      <td>2013-01-01 02:47:00</td>\n",
       "    </tr>\n",
       "    <tr>\n",
       "      <th>3</th>\n",
       "      <td>901E4965DF59FA006B74057ACE3F979F</td>\n",
       "      <td>797E4DBEC1C53DBC3196540342C64D4B</td>\n",
       "      <td>0</td>\n",
       "      <td>0.0</td>\n",
       "      <td>2013-01-01 15:16:04</td>\n",
       "      <td>2013-01-01 15:23:33</td>\n",
       "    </tr>\n",
       "    <tr>\n",
       "      <th>4</th>\n",
       "      <td>14581655B9201FAB51523708396522E5</td>\n",
       "      <td>04F81021ECEAA5E70763E550E2FD778E</td>\n",
       "      <td>1</td>\n",
       "      <td>1.6</td>\n",
       "      <td>2013-01-02 08:52:21</td>\n",
       "      <td>2013-01-02 08:56:52</td>\n",
       "    </tr>\n",
       "  </tbody>\n",
       "</table>\n",
       "</div>"
      ],
      "text/plain": [
       "                          medallion                      hack_license  passenger_count  trip_distance              pickup             dropoff\n",
       "0  81124DBD6AB03F24B895D5CF04AAACA2  EFEDEB0551AA8916DE8F1997F0DE3647                1            0.0 2013-01-01 00:02:42 2013-01-01 00:02:50\n",
       "1  C8C1AAEB85749A3A2D1279A1C1DA89AC  51CC5CA07EDCBC3BE57775EDB9F4771B                2            3.5 2013-01-01 00:58:45 2013-01-01 01:10:34\n",
       "2  DAF57CF25F00457CC6077CD628EC71AC  F426171D9725BF58B391BA8BEC3919F0                3            2.2 2013-01-01 02:36:56 2013-01-01 02:47:00\n",
       "3  901E4965DF59FA006B74057ACE3F979F  797E4DBEC1C53DBC3196540342C64D4B                0            0.0 2013-01-01 15:16:04 2013-01-01 15:23:33\n",
       "4  14581655B9201FAB51523708396522E5  04F81021ECEAA5E70763E550E2FD778E                1            1.6 2013-01-02 08:52:21 2013-01-02 08:56:52"
      ]
     },
     "execution_count": 6,
     "metadata": {},
     "output_type": "execute_result"
    }
   ],
   "source": [
    "df.head()"
   ]
  },
  {
   "cell_type": "code",
   "execution_count": 7,
   "metadata": {
    "collapsed": false
   },
   "outputs": [
    {
     "data": {
      "text/plain": [
       "6845"
      ]
     },
     "execution_count": 7,
     "metadata": {},
     "output_type": "execute_result"
    }
   ],
   "source": [
    "# uniques for the medallions\n",
    "len(df.medallion.cat.categories)"
   ]
  },
  {
   "cell_type": "code",
   "execution_count": 8,
   "metadata": {
    "collapsed": false
   },
   "outputs": [
    {
     "data": {
      "text/plain": [
       "19060"
      ]
     },
     "execution_count": 8,
     "metadata": {},
     "output_type": "execute_result"
    }
   ],
   "source": [
    "# uniques for the hack license\n",
    "len(df.hack_license.cat.categories)"
   ]
  },
  {
   "cell_type": "code",
   "execution_count": 9,
   "metadata": {
    "collapsed": true
   },
   "outputs": [],
   "source": [
    "# lengh of the ride\n",
    "df['length'] = df['dropoff']-df['pickup']"
   ]
  },
  {
   "cell_type": "code",
   "execution_count": 10,
   "metadata": {
    "collapsed": true
   },
   "outputs": [],
   "source": [
    "l = df['length']"
   ]
  },
  {
   "cell_type": "code",
   "execution_count": 11,
   "metadata": {
    "collapsed": false
   },
   "outputs": [
    {
     "data": {
      "text/plain": [
       "499319    21 days 00:29:24\n",
       "591541    21 days 00:11:12\n",
       "1049181   21 days 00:07:13\n",
       "1603829   21 days 00:04:45\n",
       "9778835   15 days 07:40:23\n",
       "7398894   14 days 00:12:09\n",
       "9080109   14 days 00:03:59\n",
       "1342321   14 days 00:01:40\n",
       "9778850    7 days 21:57:37\n",
       "9881439    7 days 01:16:49\n",
       "Name: length, dtype: timedelta64[ns]"
      ]
     },
     "execution_count": 11,
     "metadata": {},
     "output_type": "execute_result"
    }
   ],
   "source": [
    "l.nlargest(10)"
   ]
  },
  {
   "cell_type": "code",
   "execution_count": 12,
   "metadata": {
    "collapsed": false
   },
   "outputs": [
    {
     "data": {
      "text/html": [
       "<div style=\"max-height:1000px;max-width:1500px;overflow:auto;\">\n",
       "<table border=\"1\" class=\"dataframe\">\n",
       "  <thead>\n",
       "    <tr style=\"text-align: right;\">\n",
       "      <th></th>\n",
       "      <th>medallion</th>\n",
       "      <th>hack_license</th>\n",
       "      <th>passenger_count</th>\n",
       "      <th>trip_distance</th>\n",
       "      <th>pickup</th>\n",
       "      <th>dropoff</th>\n",
       "      <th>length</th>\n",
       "    </tr>\n",
       "  </thead>\n",
       "  <tbody>\n",
       "    <tr>\n",
       "      <th>499319</th>\n",
       "      <td>862921D5C13425C2DBDB7D065231FB1E</td>\n",
       "      <td>0C1A981E411908D59CB5D8A45097C0B6</td>\n",
       "      <td>1</td>\n",
       "      <td>9.8</td>\n",
       "      <td>2013-01-03 15:30:01</td>\n",
       "      <td>2013-01-24 15:59:25</td>\n",
       "      <td>21 days 00:29:24</td>\n",
       "    </tr>\n",
       "    <tr>\n",
       "      <th>591541</th>\n",
       "      <td>128307B5B4418255867779D6E0814FCC</td>\n",
       "      <td>8865ED00BB9261FE4A450A33905C7CB2</td>\n",
       "      <td>1</td>\n",
       "      <td>1.9</td>\n",
       "      <td>2013-01-03 23:02:11</td>\n",
       "      <td>2013-01-24 23:13:23</td>\n",
       "      <td>21 days 00:11:12</td>\n",
       "    </tr>\n",
       "    <tr>\n",
       "      <th>1049181</th>\n",
       "      <td>128307B5B4418255867779D6E0814FCC</td>\n",
       "      <td>8865ED00BB9261FE4A450A33905C7CB2</td>\n",
       "      <td>1</td>\n",
       "      <td>1.1</td>\n",
       "      <td>2013-01-05 23:03:51</td>\n",
       "      <td>2013-01-26 23:11:04</td>\n",
       "      <td>21 days 00:07:13</td>\n",
       "    </tr>\n",
       "    <tr>\n",
       "      <th>1603829</th>\n",
       "      <td>1BEEA74F93CD153F6CAF0601551EFBFC</td>\n",
       "      <td>4D5B9D2700B465B742161DF320C51BCA</td>\n",
       "      <td>1</td>\n",
       "      <td>0.8</td>\n",
       "      <td>2013-01-08 17:56:04</td>\n",
       "      <td>2013-01-29 18:00:49</td>\n",
       "      <td>21 days 00:04:45</td>\n",
       "    </tr>\n",
       "    <tr>\n",
       "      <th>9778835</th>\n",
       "      <td>3349F919AA8AE5DC9C50A3773EA45BD8</td>\n",
       "      <td>B17863F57B0C08C097D7B16982DC3A0E</td>\n",
       "      <td>1</td>\n",
       "      <td>4.9</td>\n",
       "      <td>2013-02-12 09:24:55</td>\n",
       "      <td>2013-02-27 17:05:18</td>\n",
       "      <td>15 days 07:40:23</td>\n",
       "    </tr>\n",
       "    <tr>\n",
       "      <th>7398894</th>\n",
       "      <td>C7BF056F5E2EF6D4CCF68EA4A23502A7</td>\n",
       "      <td>31C1767F1B1A285992705288B9024DD9</td>\n",
       "      <td>1</td>\n",
       "      <td>2.7</td>\n",
       "      <td>2013-02-01 22:43:01</td>\n",
       "      <td>2013-02-15 22:55:10</td>\n",
       "      <td>14 days 00:12:09</td>\n",
       "    </tr>\n",
       "    <tr>\n",
       "      <th>9080109</th>\n",
       "      <td>B1225A61714B803509D43E67612A495E</td>\n",
       "      <td>E02638526ACD19533C6E15BE51E6CF84</td>\n",
       "      <td>2</td>\n",
       "      <td>0.6</td>\n",
       "      <td>2013-02-08 21:09:15</td>\n",
       "      <td>2013-02-22 21:13:14</td>\n",
       "      <td>14 days 00:03:59</td>\n",
       "    </tr>\n",
       "    <tr>\n",
       "      <th>1342321</th>\n",
       "      <td>128307B5B4418255867779D6E0814FCC</td>\n",
       "      <td>A1D1E7C658D78B1906F8FCE575467B74</td>\n",
       "      <td>2</td>\n",
       "      <td>0.4</td>\n",
       "      <td>2013-01-07 12:37:21</td>\n",
       "      <td>2013-01-21 12:39:01</td>\n",
       "      <td>14 days 00:01:40</td>\n",
       "    </tr>\n",
       "    <tr>\n",
       "      <th>9778850</th>\n",
       "      <td>3349F919AA8AE5DC9C50A3773EA45BD8</td>\n",
       "      <td>B17863F57B0C08C097D7B16982DC3A0E</td>\n",
       "      <td>1</td>\n",
       "      <td>2.1</td>\n",
       "      <td>2013-02-12 09:25:00</td>\n",
       "      <td>2013-02-20 07:22:37</td>\n",
       "      <td>7 days 21:57:37</td>\n",
       "    </tr>\n",
       "    <tr>\n",
       "      <th>9881439</th>\n",
       "      <td>128307B5B4418255867779D6E0814FCC</td>\n",
       "      <td>8865ED00BB9261FE4A450A33905C7CB2</td>\n",
       "      <td>1</td>\n",
       "      <td>9.7</td>\n",
       "      <td>2013-02-12 18:07:04</td>\n",
       "      <td>2013-02-19 19:23:53</td>\n",
       "      <td>7 days 01:16:49</td>\n",
       "    </tr>\n",
       "  </tbody>\n",
       "</table>\n",
       "</div>"
      ],
      "text/plain": [
       "                                medallion                      hack_license  passenger_count  trip_distance              pickup             dropoff           length\n",
       "499319   862921D5C13425C2DBDB7D065231FB1E  0C1A981E411908D59CB5D8A45097C0B6                1            9.8 2013-01-03 15:30:01 2013-01-24 15:59:25 21 days 00:29:24\n",
       "591541   128307B5B4418255867779D6E0814FCC  8865ED00BB9261FE4A450A33905C7CB2                1            1.9 2013-01-03 23:02:11 2013-01-24 23:13:23 21 days 00:11:12\n",
       "1049181  128307B5B4418255867779D6E0814FCC  8865ED00BB9261FE4A450A33905C7CB2                1            1.1 2013-01-05 23:03:51 2013-01-26 23:11:04 21 days 00:07:13\n",
       "1603829  1BEEA74F93CD153F6CAF0601551EFBFC  4D5B9D2700B465B742161DF320C51BCA                1            0.8 2013-01-08 17:56:04 2013-01-29 18:00:49 21 days 00:04:45\n",
       "9778835  3349F919AA8AE5DC9C50A3773EA45BD8  B17863F57B0C08C097D7B16982DC3A0E                1            4.9 2013-02-12 09:24:55 2013-02-27 17:05:18 15 days 07:40:23\n",
       "7398894  C7BF056F5E2EF6D4CCF68EA4A23502A7  31C1767F1B1A285992705288B9024DD9                1            2.7 2013-02-01 22:43:01 2013-02-15 22:55:10 14 days 00:12:09\n",
       "9080109  B1225A61714B803509D43E67612A495E  E02638526ACD19533C6E15BE51E6CF84                2            0.6 2013-02-08 21:09:15 2013-02-22 21:13:14 14 days 00:03:59\n",
       "1342321  128307B5B4418255867779D6E0814FCC  A1D1E7C658D78B1906F8FCE575467B74                2            0.4 2013-01-07 12:37:21 2013-01-21 12:39:01 14 days 00:01:40\n",
       "9778850  3349F919AA8AE5DC9C50A3773EA45BD8  B17863F57B0C08C097D7B16982DC3A0E                1            2.1 2013-02-12 09:25:00 2013-02-20 07:22:37  7 days 21:57:37\n",
       "9881439  128307B5B4418255867779D6E0814FCC  8865ED00BB9261FE4A450A33905C7CB2                1            9.7 2013-02-12 18:07:04 2013-02-19 19:23:53  7 days 01:16:49"
      ]
     },
     "execution_count": 12,
     "metadata": {},
     "output_type": "execute_result"
    }
   ],
   "source": [
    "df.loc[l.nlargest(10).index]"
   ]
  },
  {
   "cell_type": "code",
   "execution_count": 13,
   "metadata": {
    "collapsed": false
   },
   "outputs": [
    {
     "data": {
      "text/plain": [
       "1    8083783\n",
       "2    1390031\n",
       "3     343997\n",
       "4     175397\n",
       "5       4525\n",
       "0       2080\n",
       "6        186\n",
       "8          1\n",
       "dtype: int64"
      ]
     },
     "execution_count": 13,
     "metadata": {},
     "output_type": "execute_result"
    }
   ],
   "source": [
    "df['passenger_count'].value_counts()"
   ]
  },
  {
   "cell_type": "code",
   "execution_count": 14,
   "metadata": {
    "collapsed": false
   },
   "outputs": [
    {
     "data": {
      "text/plain": [
       "<matplotlib.axes._subplots.AxesSubplot at 0x10afa3cd0>"
      ]
     },
     "execution_count": 14,
     "metadata": {},
     "output_type": "execute_result"
    },
    {
     "data": {
      "image/png": "[encoded data removed]",
      "text/plain": [
       "<matplotlib.figure.Figure at 0x10aa94dd0>"
      ]
     },
     "metadata": {},
     "output_type": "display_data"
    }
   ],
   "source": [
    "df['passenger_count'].value_counts().hist(xrot=45)"
   ]
  },
  {
   "cell_type": "code",
   "execution_count": 15,
   "metadata": {
    "collapsed": false
   },
   "outputs": [
    {
     "data": {
      "text/plain": [
       "count    10000000.000000\n",
       "mean            2.486209\n",
       "std             2.630351\n",
       "min             0.000000\n",
       "25%             1.000000\n",
       "50%             1.700000\n",
       "75%             2.900000\n",
       "max           100.000000\n",
       "Name: trip_distance, dtype: float64"
      ]
     },
     "execution_count": 15,
     "metadata": {},
     "output_type": "execute_result"
    }
   ],
   "source": [
    "df['trip_distance'].describe()"
   ]
  },
  {
   "cell_type": "code",
   "execution_count": 16,
   "metadata": {
    "collapsed": false
   },
   "outputs": [
    {
     "data": {
      "text/plain": [
       "0          0.002222\n",
       "1          0.196944\n",
       "2          0.167778\n",
       "3          0.124722\n",
       "4          0.075278\n",
       "             ...   \n",
       "9999995    0.461667\n",
       "9999996    0.022778\n",
       "9999997    0.121111\n",
       "9999998    0.136111\n",
       "9999999    0.154444\n",
       "Name: length, dtype: float64"
      ]
     },
     "execution_count": 16,
     "metadata": {},
     "output_type": "execute_result"
    }
   ],
   "source": [
    "length_in_hours = df['length'] / np.timedelta64(1,'h')\n",
    "length_in_hours"
   ]
  },
  {
   "cell_type": "code",
   "execution_count": 25,
   "metadata": {
    "collapsed": false
   },
   "outputs": [
    {
     "data": {
      "text/plain": [
       "count    10000000.000000\n",
       "mean            0.184284\n",
       "std             0.428603\n",
       "min           -20.000000\n",
       "25%             0.096111\n",
       "50%             0.154167\n",
       "75%             0.238611\n",
       "max           504.490000\n",
       "Name: length, dtype: float64"
      ]
     },
     "execution_count": 25,
     "metadata": {},
     "output_type": "execute_result"
    }
   ],
   "source": [
    "length_in_hours.describe()"
   ]
  },
  {
   "cell_type": "code",
   "execution_count": 20,
   "metadata": {
    "collapsed": false
   },
   "outputs": [
    {
     "data": {
      "text/html": [
       "<div style=\"max-height:1000px;max-width:1500px;overflow:auto;\">\n",
       "<table border=\"1\" class=\"dataframe\">\n",
       "  <thead>\n",
       "    <tr style=\"text-align: right;\">\n",
       "      <th></th>\n",
       "      <th>medallion</th>\n",
       "      <th>hack_license</th>\n",
       "      <th>passenger_count</th>\n",
       "      <th>trip_distance</th>\n",
       "      <th>pickup</th>\n",
       "      <th>dropoff</th>\n",
       "      <th>length</th>\n",
       "      <th>speed</th>\n",
       "    </tr>\n",
       "  </thead>\n",
       "  <tbody>\n",
       "    <tr>\n",
       "      <th>0</th>\n",
       "      <td>81124DBD6AB03F24B895D5CF04AAACA2</td>\n",
       "      <td>EFEDEB0551AA8916DE8F1997F0DE3647</td>\n",
       "      <td>1</td>\n",
       "      <td>0.0</td>\n",
       "      <td>2013-01-01 00:02:42</td>\n",
       "      <td>2013-01-01 00:02:50</td>\n",
       "      <td>00:00:08</td>\n",
       "      <td>0.000000</td>\n",
       "    </tr>\n",
       "    <tr>\n",
       "      <th>1</th>\n",
       "      <td>C8C1AAEB85749A3A2D1279A1C1DA89AC</td>\n",
       "      <td>51CC5CA07EDCBC3BE57775EDB9F4771B</td>\n",
       "      <td>2</td>\n",
       "      <td>3.5</td>\n",
       "      <td>2013-01-01 00:58:45</td>\n",
       "      <td>2013-01-01 01:10:34</td>\n",
       "      <td>00:11:49</td>\n",
       "      <td>17.771509</td>\n",
       "    </tr>\n",
       "    <tr>\n",
       "      <th>2</th>\n",
       "      <td>DAF57CF25F00457CC6077CD628EC71AC</td>\n",
       "      <td>F426171D9725BF58B391BA8BEC3919F0</td>\n",
       "      <td>3</td>\n",
       "      <td>2.2</td>\n",
       "      <td>2013-01-01 02:36:56</td>\n",
       "      <td>2013-01-01 02:47:00</td>\n",
       "      <td>00:10:04</td>\n",
       "      <td>13.112583</td>\n",
       "    </tr>\n",
       "    <tr>\n",
       "      <th>3</th>\n",
       "      <td>901E4965DF59FA006B74057ACE3F979F</td>\n",
       "      <td>797E4DBEC1C53DBC3196540342C64D4B</td>\n",
       "      <td>0</td>\n",
       "      <td>0.0</td>\n",
       "      <td>2013-01-01 15:16:04</td>\n",
       "      <td>2013-01-01 15:23:33</td>\n",
       "      <td>00:07:29</td>\n",
       "      <td>0.000000</td>\n",
       "    </tr>\n",
       "    <tr>\n",
       "      <th>4</th>\n",
       "      <td>14581655B9201FAB51523708396522E5</td>\n",
       "      <td>04F81021ECEAA5E70763E550E2FD778E</td>\n",
       "      <td>1</td>\n",
       "      <td>1.6</td>\n",
       "      <td>2013-01-02 08:52:21</td>\n",
       "      <td>2013-01-02 08:56:52</td>\n",
       "      <td>00:04:31</td>\n",
       "      <td>21.254613</td>\n",
       "    </tr>\n",
       "    <tr>\n",
       "      <th>...</th>\n",
       "      <td>...</td>\n",
       "      <td>...</td>\n",
       "      <td>...</td>\n",
       "      <td>...</td>\n",
       "      <td>...</td>\n",
       "      <td>...</td>\n",
       "      <td>...</td>\n",
       "      <td>...</td>\n",
       "    </tr>\n",
       "    <tr>\n",
       "      <th>9999995</th>\n",
       "      <td>994C3ED6A4B67E28FAEA0F14FF6020FD</td>\n",
       "      <td>6B5908B61F5E719A919A03FFADC3DFFB</td>\n",
       "      <td>1</td>\n",
       "      <td>7.7</td>\n",
       "      <td>2013-02-13 07:18:54</td>\n",
       "      <td>2013-02-13 07:46:36</td>\n",
       "      <td>00:27:42</td>\n",
       "      <td>16.678700</td>\n",
       "    </tr>\n",
       "    <tr>\n",
       "      <th>9999996</th>\n",
       "      <td>5540EDF731F24EAF0A762A2AC3309482</td>\n",
       "      <td>4854C5F00725B2E18A953714DB349380</td>\n",
       "      <td>1</td>\n",
       "      <td>0.3</td>\n",
       "      <td>2013-02-13 07:18:55</td>\n",
       "      <td>2013-02-13 07:20:17</td>\n",
       "      <td>00:01:22</td>\n",
       "      <td>13.170732</td>\n",
       "    </tr>\n",
       "    <tr>\n",
       "      <th>9999997</th>\n",
       "      <td>EA00A64CBDB68C77D053F010FDEC70AA</td>\n",
       "      <td>7FA8BCA45AE26F3903DE0FB97D3DC2C5</td>\n",
       "      <td>1</td>\n",
       "      <td>1.2</td>\n",
       "      <td>2013-02-13 07:18:55</td>\n",
       "      <td>2013-02-13 07:26:11</td>\n",
       "      <td>00:07:16</td>\n",
       "      <td>9.908257</td>\n",
       "    </tr>\n",
       "    <tr>\n",
       "      <th>9999998</th>\n",
       "      <td>6FD35EAC5708C2586746987E2E16B9AF</td>\n",
       "      <td>90FE8C8D0F5EEA6204AFBA09BB3EDAEC</td>\n",
       "      <td>1</td>\n",
       "      <td>2.1</td>\n",
       "      <td>2013-02-13 07:18:55</td>\n",
       "      <td>2013-02-13 07:27:05</td>\n",
       "      <td>00:08:10</td>\n",
       "      <td>15.428571</td>\n",
       "    </tr>\n",
       "    <tr>\n",
       "      <th>9999999</th>\n",
       "      <td>789D02B2472F3EFD69CAFFEDA21602C3</td>\n",
       "      <td>428AFC7B30E1BC1362E8DABB5423B189</td>\n",
       "      <td>1</td>\n",
       "      <td>2.5</td>\n",
       "      <td>2013-02-13 07:18:56</td>\n",
       "      <td>2013-02-13 07:28:12</td>\n",
       "      <td>00:09:16</td>\n",
       "      <td>16.187050</td>\n",
       "    </tr>\n",
       "  </tbody>\n",
       "</table>\n",
       "<p>10000000 rows × 8 columns</p>\n",
       "</div>"
      ],
      "text/plain": [
       "                                medallion                      hack_license  passenger_count  trip_distance              pickup             dropoff   length      speed\n",
       "0        81124DBD6AB03F24B895D5CF04AAACA2  EFEDEB0551AA8916DE8F1997F0DE3647                1            0.0 2013-01-01 00:02:42 2013-01-01 00:02:50 00:00:08   0.000000\n",
       "1        C8C1AAEB85749A3A2D1279A1C1DA89AC  51CC5CA07EDCBC3BE57775EDB9F4771B                2            3.5 2013-01-01 00:58:45 2013-01-01 01:10:34 00:11:49  17.771509\n",
       "2        DAF57CF25F00457CC6077CD628EC71AC  F426171D9725BF58B391BA8BEC3919F0                3            2.2 2013-01-01 02:36:56 2013-01-01 02:47:00 00:10:04  13.112583\n",
       "3        901E4965DF59FA006B74057ACE3F979F  797E4DBEC1C53DBC3196540342C64D4B                0            0.0 2013-01-01 15:16:04 2013-01-01 15:23:33 00:07:29   0.000000\n",
       "4        14581655B9201FAB51523708396522E5  04F81021ECEAA5E70763E550E2FD778E                1            1.6 2013-01-02 08:52:21 2013-01-02 08:56:52 00:04:31  21.254613\n",
       "...                                   ...                               ...              ...            ...                 ...                 ...      ...        ...\n",
       "9999995  994C3ED6A4B67E28FAEA0F14FF6020FD  6B5908B61F5E719A919A03FFADC3DFFB                1            7.7 2013-02-13 07:18:54 2013-02-13 07:46:36 00:27:42  16.678700\n",
       "9999996  5540EDF731F24EAF0A762A2AC3309482  4854C5F00725B2E18A953714DB349380                1            0.3 2013-02-13 07:18:55 2013-02-13 07:20:17 00:01:22  13.170732\n",
       "9999997  EA00A64CBDB68C77D053F010FDEC70AA  7FA8BCA45AE26F3903DE0FB97D3DC2C5                1            1.2 2013-02-13 07:18:55 2013-02-13 07:26:11 00:07:16   9.908257\n",
       "9999998  6FD35EAC5708C2586746987E2E16B9AF  90FE8C8D0F5EEA6204AFBA09BB3EDAEC                1            2.1 2013-02-13 07:18:55 2013-02-13 07:27:05 00:08:10  15.428571\n",
       "9999999  789D02B2472F3EFD69CAFFEDA21602C3  428AFC7B30E1BC1362E8DABB5423B189                1            2.5 2013-02-13 07:18:56 2013-02-13 07:28:12 00:09:16  16.187050\n",
       "\n",
       "[10000000 rows x 8 columns]"
      ]
     },
     "execution_count": 20,
     "metadata": {},
     "output_type": "execute_result"
    }
   ],
   "source": [
    "r = df.assign(speed=df['trip_distance']/length_in_hours)\n",
    "r"
   ]
  },
  {
   "cell_type": "code",
   "execution_count": 24,
   "metadata": {
    "collapsed": false
   },
   "outputs": [
    {
     "data": {
      "text/plain": [
       "count    9.996269e+06\n",
       "mean              inf\n",
       "std               NaN\n",
       "min     -2.452500e+03\n",
       "25%      8.846881e+00\n",
       "50%      1.167656e+01\n",
       "75%      1.552448e+01\n",
       "max               inf\n",
       "Name: speed, dtype: float64"
      ]
     },
     "execution_count": 24,
     "metadata": {},
     "output_type": "execute_result"
    }
   ],
   "source": []
  },
  {
   "cell_type": "code",
   "execution_count": 22,
   "metadata": {
    "collapsed": false
   },
   "outputs": [
    {
     "ename": "ValueError",
     "evalue": "Bin edges must be unique: array([ nan,  inf,  inf,  inf,  inf,  inf,  inf,  inf,  inf,  inf,  inf])",
     "output_type": "error",
     "traceback": [
      "\u001b[0;31m---------------------------------------------------------------------------\u001b[0m",
      "\u001b[0;31mValueError\u001b[0m                                Traceback (most recent call last)",
      "\u001b[0;32m<ipython-input-22-a40268c0f91b>\u001b[0m in \u001b[0;36m<module>\u001b[0;34m()\u001b[0m\n\u001b[0;32m----> 1\u001b[0;31m \u001b[0mpd\u001b[0m\u001b[0;34m.\u001b[0m\u001b[0mcut\u001b[0m\u001b[0;34m(\u001b[0m\u001b[0mr\u001b[0m\u001b[0;34m.\u001b[0m\u001b[0mspeed\u001b[0m\u001b[0;34m,\u001b[0m\u001b[0mbins\u001b[0m\u001b[0;34m=\u001b[0m\u001b[0;36m10\u001b[0m\u001b[0;34m)\u001b[0m\u001b[0;34m\u001b[0m\u001b[0m\n\u001b[0m",
      "\u001b[0;32m/Users/jreback/anaconda/lib/python2.7/site-packages/pandas/tools/tile.pyc\u001b[0m in \u001b[0;36mcut\u001b[0;34m(x, bins, right, labels, retbins, precision, include_lowest)\u001b[0m\n\u001b[1;32m    111\u001b[0m \u001b[0;34m\u001b[0m\u001b[0m\n\u001b[1;32m    112\u001b[0m     return _bins_to_cuts(x, bins, right=right, labels=labels,retbins=retbins, precision=precision,\n\u001b[0;32m--> 113\u001b[0;31m                          include_lowest=include_lowest)\n\u001b[0m\u001b[1;32m    114\u001b[0m \u001b[0;34m\u001b[0m\u001b[0m\n\u001b[1;32m    115\u001b[0m \u001b[0;34m\u001b[0m\u001b[0m\n",
      "\u001b[0;32m/Users/jreback/anaconda/lib/python2.7/site-packages/pandas/tools/tile.pyc\u001b[0m in \u001b[0;36m_bins_to_cuts\u001b[0;34m(x, bins, right, labels, retbins, precision, name, include_lowest)\u001b[0m\n\u001b[1;32m    187\u001b[0m \u001b[0;34m\u001b[0m\u001b[0m\n\u001b[1;32m    188\u001b[0m     \u001b[0;32mif\u001b[0m \u001b[0mlen\u001b[0m\u001b[0;34m(\u001b[0m\u001b[0malgos\u001b[0m\u001b[0;34m.\u001b[0m\u001b[0munique\u001b[0m\u001b[0;34m(\u001b[0m\u001b[0mbins\u001b[0m\u001b[0;34m)\u001b[0m\u001b[0;34m)\u001b[0m \u001b[0;34m<\u001b[0m \u001b[0mlen\u001b[0m\u001b[0;34m(\u001b[0m\u001b[0mbins\u001b[0m\u001b[0;34m)\u001b[0m\u001b[0;34m:\u001b[0m\u001b[0;34m\u001b[0m\u001b[0m\n\u001b[0;32m--> 189\u001b[0;31m         \u001b[0;32mraise\u001b[0m \u001b[0mValueError\u001b[0m\u001b[0;34m(\u001b[0m\u001b[0;34m'Bin edges must be unique: %s'\u001b[0m \u001b[0;34m%\u001b[0m \u001b[0mrepr\u001b[0m\u001b[0;34m(\u001b[0m\u001b[0mbins\u001b[0m\u001b[0;34m)\u001b[0m\u001b[0;34m)\u001b[0m\u001b[0;34m\u001b[0m\u001b[0m\n\u001b[0m\u001b[1;32m    190\u001b[0m \u001b[0;34m\u001b[0m\u001b[0m\n\u001b[1;32m    191\u001b[0m     \u001b[0;32mif\u001b[0m \u001b[0minclude_lowest\u001b[0m\u001b[0;34m:\u001b[0m\u001b[0;34m\u001b[0m\u001b[0m\n",
      "\u001b[0;31mValueError\u001b[0m: Bin edges must be unique: array([ nan,  inf,  inf,  inf,  inf,  inf,  inf,  inf,  inf,  inf,  inf])"
     ]
    }
   ],
   "source": [
    "pd.cut(r.speed,bins=10)"
   ]
  },
  {
   "cell_type": "code",
   "execution_count": null,
   "metadata": {
    "collapsed": true
   },
   "outputs": [],
   "source": []
  }
 ],
 "metadata": {
  "kernelspec": {
   "display_name": "Python 2",
   "language": "python",
   "name": "python2"
  },
  "language_info": {
   "codemirror_mode": {
    "name": "ipython",
    "version": 2
   },
   "file_extension": ".py",
   "mimetype": "text/x-python",
   "name": "python",
   "nbconvert_exporter": "python",
   "pygments_lexer": "ipython2",
   "version": "2.7.9"
  }
 },
 "nbformat": 4,
 "nbformat_minor": 0
}
